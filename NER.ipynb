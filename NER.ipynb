{
 "cells": [
  {
   "cell_type": "markdown",
   "id": "a2f85be1-6862-44c6-91f1-abfb7fab1faa",
   "metadata": {},
   "source": [
    "# Parts of Speech Tags\n",
    "Example\n",
    "- CC coordinating conjuntion\n",
    "- CD cardinal digit\n",
    "- DT determiner\n",
    "- CC coordinating conjunction\n",
    "- CD cardinal digit\n",
    "- DT determiner\n",
    "- EX existential there (like: “there is” … think of it like “there exists”)\n",
    "- FW foreign word\n",
    "- IN preposition/subordinating conjunction\n",
    "- JJ adjective ‘big’\n",
    "- JJR adjective, comparative ‘bigger’\n",
    "- JJS adjective, superlative ‘biggest’\n",
    "- LS list marker 1)\n",
    "- MD modal could, will\n",
    "- NN noun, singular ‘desk’\n",
    "- NNS noun plural ‘desks’\n",
    "- NNP proper noun, singular ‘Harrison’\n",
    "- NNPS proper noun, plural ‘Americans’\n",
    "- PDT predeterminer ‘all the kids’\n",
    "- POS possessive ending parent’s\n",
    "- PRP personal pronoun I, he, she\n",
    "- PRP$$ possessive pronoun my, his, hers\n",
    "- RB adverb very, silently,\n",
    "- RBR adverb, comparative better\n",
    "- RBS adverb, superlative best\n",
    "- RP particle give up\n",
    "- TO, to go ‘to’ the store.\n",
    "- UH interjection, errrrrrrrm\n",
    "- VB verb, base form take\n",
    "- VBD verb, past tense took\n",
    "- VBG verb, gerund/present participle taking\n",
    "- VBN verb, past participle taken\n",
    "- VBP verb, sing. present, non-3d take\n",
    "- VBZ verb, 3rd person sing. present takes\n",
    "- WDT wh-determiner which\n",
    "- WP wh-pronoun who, what\n",
    "- WP$ possessive wh-pronoun whose\n",
    "- WRB wh-abverb where, when"
   ]
  },
  {
   "cell_type": "code",
   "execution_count": 1,
   "id": "05b70c18-b95a-4eeb-9483-f084a72c50f8",
   "metadata": {},
   "outputs": [],
   "source": [
    "paragraph = \"\"\"\n",
    "In this paper, we develop DeepSinger, a multi-lingual multi-singer singing voice synthesis (SVS) system, \n",
    "which is built from scratch using singing training data mined from music websites. \n",
    "The pipeline of DeepSinger consists of several steps, including data crawling, singing and accompaniment separation, \n",
    "lyrics-to-singing alignment, data filtration, and singing modeling. Specifically, \n",
    "we design a lyrics-to-singing alignment model to automatically extract the duration of each phoneme in \n",
    "lyrics starting from coarse-grained sentence level to fine-grained phoneme level, and further design a multi-lingual \n",
    "multi-singer singing model based on a feed-forward Transformer to directly generate linear-spectrograms from lyrics, \n",
    "and synthesize voices using Griffin-Lim. DeepSinger has several advantages over previous SVS systems: \n",
    "1) to the best of our knowledge, it is the first SVS system that directly mines training data from music websites, \n",
    "2) the lyrics-to-singing alignment model further avoids any human efforts for alignment labeling and greatly reduces labeling cost,\n",
    "3) the singing model based on a feed-forward Transformer is simple and efficient, by removing the complicated acoustic feature modeling in parametric synthesis \n",
    "and leveraging a reference encoder to capture the timbre of a singer from noisy singing data, and \n",
    "4) it can synthesize singing voices in multiple languages and multiple singers. \n",
    "We evaluate DeepSinger on our mined singing dataset that consists of about 92 hours data from 89 singers on three languages \n",
    "(Chinese, Cantonese and English). The results demonstrate that with the singing data purely mined from the Web, \n",
    "DeepSinger can synthesize high-quality singing voices in terms of both pitch accuracy and voice naturalness\n",
    "\"\"\""
   ]
  },
  {
   "cell_type": "code",
   "execution_count": 2,
   "id": "ba04ca9b-7d24-4094-ae65-0dd0dc19aa40",
   "metadata": {},
   "outputs": [],
   "source": [
    "import nltk \n",
    "from nltk.corpus import stopwords\n",
    "sentences = nltk.sent_tokenize(paragraph)"
   ]
  },
  {
   "cell_type": "code",
   "execution_count": 3,
   "id": "1035f270-4d53-496d-98e8-7f0fb5facdb2",
   "metadata": {},
   "outputs": [
    {
     "name": "stdout",
     "output_type": "stream",
     "text": [
      "[('In', 'IN'), ('this', 'DT'), ('paper', 'NN'), (',', ','), ('we', 'PRP'), ('develop', 'VBP'), ('DeepSinger', 'NNP'), (',', ','), ('a', 'DT'), ('multi-lingual', 'JJ'), ('multi-singer', 'NN'), ('singing', 'NN'), ('voice', 'NN'), ('synthesis', 'NN'), ('(', '('), ('SVS', 'NNP'), (')', ')'), ('system', 'NN'), (',', ','), ('which', 'WDT'), ('is', 'VBZ'), ('built', 'VBN'), ('from', 'IN'), ('scratch', 'NN'), ('using', 'VBG'), ('singing', 'VBG'), ('training', 'VBG'), ('data', 'NNS'), ('mined', 'VBN'), ('from', 'IN'), ('music', 'NN'), ('websites', 'NNS'), ('.', '.')]\n",
      "[('The', 'DT'), ('pipeline', 'NN'), ('of', 'IN'), ('DeepSinger', 'NNP'), ('consists', 'VBZ'), ('of', 'IN'), ('several', 'JJ'), ('steps', 'NNS'), (',', ','), ('including', 'VBG'), ('data', 'NNS'), ('crawling', 'NN'), (',', ','), ('singing', 'VBG'), ('and', 'CC'), ('accompaniment', 'JJ'), ('separation', 'NN'), (',', ','), ('lyrics-to-singing', 'JJ'), ('alignment', 'NN'), (',', ','), ('data', 'NNS'), ('filtration', 'NN'), (',', ','), ('and', 'CC'), ('singing', 'VBG'), ('modeling', 'NN'), ('.', '.')]\n",
      "[('Specifically', 'RB'), (',', ','), ('we', 'PRP'), ('design', 'VBP'), ('a', 'DT'), ('lyrics-to-singing', 'JJ'), ('alignment', 'NN'), ('model', 'NN'), ('to', 'TO'), ('automatically', 'RB'), ('extract', 'VB'), ('the', 'DT'), ('duration', 'NN'), ('of', 'IN'), ('each', 'DT'), ('phoneme', 'NN'), ('in', 'IN'), ('lyrics', 'NNS'), ('starting', 'VBG'), ('from', 'IN'), ('coarse-grained', 'JJ'), ('sentence', 'NN'), ('level', 'NN'), ('to', 'TO'), ('fine-grained', 'JJ'), ('phoneme', 'NN'), ('level', 'NN'), (',', ','), ('and', 'CC'), ('further', 'RB'), ('design', 'VB'), ('a', 'DT'), ('multi-lingual', 'JJ'), ('multi-singer', 'NN'), ('singing', 'VBG'), ('model', 'NN'), ('based', 'VBN'), ('on', 'IN'), ('a', 'DT'), ('feed-forward', 'JJ'), ('Transformer', 'NN'), ('to', 'TO'), ('directly', 'RB'), ('generate', 'VB'), ('linear-spectrograms', 'NNS'), ('from', 'IN'), ('lyrics', 'NNS'), (',', ','), ('and', 'CC'), ('synthesize', 'VB'), ('voices', 'NNS'), ('using', 'VBG'), ('Griffin-Lim', 'NNP'), ('.', '.')]\n",
      "[('DeepSinger', 'NNP'), ('has', 'VBZ'), ('several', 'JJ'), ('advantages', 'NNS'), ('over', 'IN'), ('previous', 'JJ'), ('SVS', 'NNP'), ('systems', 'NNS'), (':', ':'), ('1', 'CD'), (')', ')'), ('to', 'TO'), ('the', 'DT'), ('best', 'JJS'), ('of', 'IN'), ('our', 'PRP$'), ('knowledge', 'NN'), (',', ','), ('it', 'PRP'), ('is', 'VBZ'), ('the', 'DT'), ('first', 'JJ'), ('SVS', 'NNP'), ('system', 'NN'), ('that', 'WDT'), ('directly', 'RB'), ('mines', 'VBZ'), ('training', 'VBG'), ('data', 'NNS'), ('from', 'IN'), ('music', 'NN'), ('websites', 'NNS'), (',', ','), ('2', 'CD'), (')', ')'), ('the', 'DT'), ('lyrics-to-singing', 'JJ'), ('alignment', 'NN'), ('model', 'NN'), ('further', 'JJ'), ('avoids', 'NNS'), ('any', 'DT'), ('human', 'JJ'), ('efforts', 'NNS'), ('for', 'IN'), ('alignment', 'JJ'), ('labeling', 'NN'), ('and', 'CC'), ('greatly', 'RB'), ('reduces', 'NNS'), ('labeling', 'VBG'), ('cost', 'NN'), (',', ','), ('3', 'CD'), (')', ')'), ('the', 'DT'), ('singing', 'VBG'), ('model', 'NN'), ('based', 'VBN'), ('on', 'IN'), ('a', 'DT'), ('feed-forward', 'JJ'), ('Transformer', 'NNP'), ('is', 'VBZ'), ('simple', 'JJ'), ('and', 'CC'), ('efficient', 'JJ'), (',', ','), ('by', 'IN'), ('removing', 'VBG'), ('the', 'DT'), ('complicated', 'VBN'), ('acoustic', 'JJ'), ('feature', 'NN'), ('modeling', 'VBG'), ('in', 'IN'), ('parametric', 'JJ'), ('synthesis', 'NN'), ('and', 'CC'), ('leveraging', 'VBG'), ('a', 'DT'), ('reference', 'NN'), ('encoder', 'NN'), ('to', 'TO'), ('capture', 'VB'), ('the', 'DT'), ('timbre', 'NN'), ('of', 'IN'), ('a', 'DT'), ('singer', 'NN'), ('from', 'IN'), ('noisy', 'JJ'), ('singing', 'VBG'), ('data', 'NNS'), (',', ','), ('and', 'CC'), ('4', 'CD'), (')', ')'), ('it', 'PRP'), ('can', 'MD'), ('synthesize', 'VB'), ('singing', 'JJ'), ('voices', 'NNS'), ('in', 'IN'), ('multiple', 'JJ'), ('languages', 'NNS'), ('and', 'CC'), ('multiple', 'JJ'), ('singers', 'NNS'), ('.', '.')]\n",
      "[('We', 'PRP'), ('evaluate', 'VBP'), ('DeepSinger', 'NNP'), ('on', 'IN'), ('our', 'PRP$'), ('mined', 'VBN'), ('singing', 'NN'), ('dataset', 'NN'), ('that', 'IN'), ('consists', 'VBZ'), ('of', 'IN'), ('about', 'IN'), ('92', 'CD'), ('hours', 'NNS'), ('data', 'NNS'), ('from', 'IN'), ('89', 'CD'), ('singers', 'NNS'), ('on', 'IN'), ('three', 'CD'), ('languages', 'NNS'), ('(', '('), ('Chinese', 'JJ'), (',', ','), ('Cantonese', 'JJ'), ('and', 'CC'), ('English', 'JJ'), (')', ')'), ('.', '.')]\n",
      "[('The', 'DT'), ('results', 'NNS'), ('demonstrate', 'VBP'), ('that', 'IN'), ('with', 'IN'), ('the', 'DT'), ('singing', 'VBG'), ('data', 'NNS'), ('purely', 'RB'), ('mined', 'VBN'), ('from', 'IN'), ('the', 'DT'), ('Web', 'NNP'), (',', ','), ('DeepSinger', 'NNP'), ('can', 'MD'), ('synthesize', 'VB'), ('high-quality', 'NN'), ('singing', 'NN'), ('voices', 'NNS'), ('in', 'IN'), ('terms', 'NNS'), ('of', 'IN'), ('both', 'DT'), ('pitch', 'NN'), ('accuracy', 'NN'), ('and', 'CC'), ('voice', 'NN'), ('naturalness', 'NN')]\n"
     ]
    }
   ],
   "source": [
    "# Find the POS tags\n",
    "for i in range(len(sentences)):\n",
    "    words = nltk.word_tokenize(sentences[i]) #converting list of sentences into words\n",
    "    new_word = [i for i in words if i not in set(stopwords.words('english'))] # Iterate the words and if the word not in stop words.\n",
    "    # sentences[i] = ' '.join(new_word) # After removing stop wrods and stemming it, join the words into sentences and place it in the same index in sentence list.\n",
    "    pos_tag = nltk.pos_tag(words)\n",
    "    print(pos_tag)"
   ]
  },
  {
   "cell_type": "markdown",
   "id": "7ca25279-2226-401c-a40f-021bd1603a4c",
   "metadata": {},
   "source": [
    "# Named Entity Recognition (NER)\n",
    "\n",
    "**Example**  \n",
    "\n",
    "Person: Gustave Eiffel  \n",
    "Place: Eiffel Tower  \n",
    "Date: 1887  \n"
   ]
  },
  {
   "cell_type": "code",
   "execution_count": 3,
   "id": "f9f90ef5-a978-437f-8896-3dabc5b55a46",
   "metadata": {},
   "outputs": [],
   "source": [
    "paragraph2 = \"\"\"\n",
    "The Eiffel Tower was built from 1887 to 1889 by French engineer Gustave Eiffle, whose company specialized \n",
    "in building metal framework and structures.\n",
    "\"\"\""
   ]
  },
  {
   "cell_type": "code",
   "execution_count": 15,
   "id": "c29e4d8b-ef87-4cf0-a5f1-dba496198b89",
   "metadata": {},
   "outputs": [],
   "source": [
    "import nltk\n",
    "import numpy\n",
    "paragraph2_tokens = nltk.word_tokenize(paragraph2)\n",
    "tagged_el = nltk.pos_tag(paragraph2_tokens)\n",
    "\n",
    "# Named Entity Chunk\n",
    "# nltk.ne_chunk(tagged_el).draw() # to get the graph\n",
    "ne = nltk.ne_chunk(tagged_el)\n",
    "print(ne)"
   ]
  },
  {
   "cell_type": "code",
   "execution_count": null,
   "id": "330e4a1a-8fba-4547-aab0-9d0ff067b876",
   "metadata": {},
   "outputs": [],
   "source": []
  }
 ],
 "metadata": {
  "kernelspec": {
   "display_name": "Python 3 (ipykernel)",
   "language": "python",
   "name": "python3"
  },
  "language_info": {
   "codemirror_mode": {
    "name": "ipython",
    "version": 3
   },
   "file_extension": ".py",
   "mimetype": "text/x-python",
   "name": "python",
   "nbconvert_exporter": "python",
   "pygments_lexer": "ipython3",
   "version": "3.12.3"
  }
 },
 "nbformat": 4,
 "nbformat_minor": 5
}
